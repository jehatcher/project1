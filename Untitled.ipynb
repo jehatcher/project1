{
 "cells": [
  {
   "cell_type": "code",
   "execution_count": 1,
   "metadata": {},
   "outputs": [],
   "source": [
    "import pandas as pd \n",
    "import numpy as np \n",
    "\n",
    "\n",
    "import matplotlib as plt\n",
    "\n",
    "import calendar \n",
    "from pandas import DataFrame"
   ]
  },
  {
   "cell_type": "code",
   "execution_count": 2,
   "metadata": {
    "scrolled": true
   },
   "outputs": [],
   "source": [
    "csv_file = \"school-shootings-data.csv\"\n",
    "mass_shooting_data = pd.read_csv(csv_file)"
   ]
  },
  {
   "cell_type": "code",
   "execution_count": 3,
   "metadata": {},
   "outputs": [
    {
     "data": {
      "text/html": [
       "<div>\n",
       "<style scoped>\n",
       "    .dataframe tbody tr th:only-of-type {\n",
       "        vertical-align: middle;\n",
       "    }\n",
       "\n",
       "    .dataframe tbody tr th {\n",
       "        vertical-align: top;\n",
       "    }\n",
       "\n",
       "    .dataframe thead th {\n",
       "        text-align: right;\n",
       "    }\n",
       "</style>\n",
       "<table border=\"1\" class=\"dataframe\">\n",
       "  <thead>\n",
       "    <tr style=\"text-align: right;\">\n",
       "      <th></th>\n",
       "      <th>uid</th>\n",
       "      <th>nces_school_id</th>\n",
       "      <th>school_name</th>\n",
       "      <th>nces_district_id</th>\n",
       "      <th>district_name</th>\n",
       "      <th>Month</th>\n",
       "      <th>school_year</th>\n",
       "      <th>year</th>\n",
       "      <th>time</th>\n",
       "      <th>day_of_week</th>\n",
       "      <th>...</th>\n",
       "      <th>lat</th>\n",
       "      <th>long</th>\n",
       "      <th>staffing</th>\n",
       "      <th>low_grade</th>\n",
       "      <th>high_grade</th>\n",
       "      <th>lunch</th>\n",
       "      <th>county</th>\n",
       "      <th>state_fips</th>\n",
       "      <th>county_fips</th>\n",
       "      <th>ulocale</th>\n",
       "    </tr>\n",
       "  </thead>\n",
       "  <tbody>\n",
       "    <tr>\n",
       "      <th>0</th>\n",
       "      <td>1</td>\n",
       "      <td>80480000707</td>\n",
       "      <td>Columbine High School</td>\n",
       "      <td>804800.0</td>\n",
       "      <td>Jefferson County R-1</td>\n",
       "      <td>4</td>\n",
       "      <td>1998-1999</td>\n",
       "      <td>1999</td>\n",
       "      <td>7-AM</td>\n",
       "      <td>Friday</td>\n",
       "      <td>...</td>\n",
       "      <td>39.603910</td>\n",
       "      <td>-105.075000</td>\n",
       "      <td>89.6</td>\n",
       "      <td>9</td>\n",
       "      <td>12</td>\n",
       "      <td>41.0</td>\n",
       "      <td>Jefferson County</td>\n",
       "      <td>8</td>\n",
       "      <td>8059</td>\n",
       "      <td>21.0</td>\n",
       "    </tr>\n",
       "    <tr>\n",
       "      <th>1</th>\n",
       "      <td>2</td>\n",
       "      <td>2.20E+11</td>\n",
       "      <td>Scotlandville Middle School</td>\n",
       "      <td>2200540.0</td>\n",
       "      <td>East Baton Rouge Parish School Board</td>\n",
       "      <td>4</td>\n",
       "      <td>1998-1999</td>\n",
       "      <td>1999</td>\n",
       "      <td>7-AM</td>\n",
       "      <td>Friday</td>\n",
       "      <td>...</td>\n",
       "      <td>30.529958</td>\n",
       "      <td>-91.169966</td>\n",
       "      <td>39.0</td>\n",
       "      <td>6</td>\n",
       "      <td>8</td>\n",
       "      <td>495.0</td>\n",
       "      <td>East Baton Rouge Parish</td>\n",
       "      <td>22</td>\n",
       "      <td>22033</td>\n",
       "      <td>12.0</td>\n",
       "    </tr>\n",
       "    <tr>\n",
       "      <th>2</th>\n",
       "      <td>3</td>\n",
       "      <td>1.30E+11</td>\n",
       "      <td>Heritage High School</td>\n",
       "      <td>1304410.0</td>\n",
       "      <td>Rockdale County</td>\n",
       "      <td>5</td>\n",
       "      <td>1998-1999</td>\n",
       "      <td>1999</td>\n",
       "      <td>7-AM</td>\n",
       "      <td>Friday</td>\n",
       "      <td>...</td>\n",
       "      <td>33.626922</td>\n",
       "      <td>-84.047960</td>\n",
       "      <td>84.0</td>\n",
       "      <td>9</td>\n",
       "      <td>12</td>\n",
       "      <td>125.0</td>\n",
       "      <td>Rockdale County</td>\n",
       "      <td>13</td>\n",
       "      <td>13247</td>\n",
       "      <td>21.0</td>\n",
       "    </tr>\n",
       "    <tr>\n",
       "      <th>3</th>\n",
       "      <td>4</td>\n",
       "      <td>4.22E+11</td>\n",
       "      <td>John Bartram High School</td>\n",
       "      <td>4218990.0</td>\n",
       "      <td>Philadelphia City SD</td>\n",
       "      <td>10</td>\n",
       "      <td>1999-2000</td>\n",
       "      <td>1999</td>\n",
       "      <td>7-AM</td>\n",
       "      <td>Friday</td>\n",
       "      <td>...</td>\n",
       "      <td>39.921509</td>\n",
       "      <td>-75.234108</td>\n",
       "      <td>41.0</td>\n",
       "      <td>9</td>\n",
       "      <td>12</td>\n",
       "      <td>2007.0</td>\n",
       "      <td>Philadelphia County</td>\n",
       "      <td>42</td>\n",
       "      <td>42101</td>\n",
       "      <td>11.0</td>\n",
       "    </tr>\n",
       "    <tr>\n",
       "      <th>4</th>\n",
       "      <td>5</td>\n",
       "      <td>2.50E+11</td>\n",
       "      <td>Dorchester High School</td>\n",
       "      <td>2502790.0</td>\n",
       "      <td>Boston</td>\n",
       "      <td>11</td>\n",
       "      <td>1999-2000</td>\n",
       "      <td>1999</td>\n",
       "      <td>7-AM</td>\n",
       "      <td>Friday</td>\n",
       "      <td>...</td>\n",
       "      <td>42.285268</td>\n",
       "      <td>-71.075901</td>\n",
       "      <td>NaN</td>\n",
       "      <td>9</td>\n",
       "      <td>12</td>\n",
       "      <td>543.0</td>\n",
       "      <td>Suffolk County</td>\n",
       "      <td>25</td>\n",
       "      <td>25025</td>\n",
       "      <td>11.0</td>\n",
       "    </tr>\n",
       "  </tbody>\n",
       "</table>\n",
       "<p>5 rows × 50 columns</p>\n",
       "</div>"
      ],
      "text/plain": [
       "   uid nces_school_id                  school_name  nces_district_id  \\\n",
       "0    1    80480000707        Columbine High School          804800.0   \n",
       "1    2       2.20E+11  Scotlandville Middle School         2200540.0   \n",
       "2    3       1.30E+11         Heritage High School         1304410.0   \n",
       "3    4       4.22E+11     John Bartram High School         4218990.0   \n",
       "4    5       2.50E+11       Dorchester High School         2502790.0   \n",
       "\n",
       "                          district_name  Month school_year  year  time  \\\n",
       "0                  Jefferson County R-1      4   1998-1999  1999  7-AM   \n",
       "1  East Baton Rouge Parish School Board      4   1998-1999  1999  7-AM   \n",
       "2                       Rockdale County      5   1998-1999  1999  7-AM   \n",
       "3                  Philadelphia City SD     10   1999-2000  1999  7-AM   \n",
       "4                                Boston     11   1999-2000  1999  7-AM   \n",
       "\n",
       "  day_of_week  ...        lat        long staffing  low_grade  high_grade  \\\n",
       "0      Friday  ...  39.603910 -105.075000     89.6          9          12   \n",
       "1      Friday  ...  30.529958  -91.169966     39.0          6           8   \n",
       "2      Friday  ...  33.626922  -84.047960     84.0          9          12   \n",
       "3      Friday  ...  39.921509  -75.234108     41.0          9          12   \n",
       "4      Friday  ...  42.285268  -71.075901      NaN          9          12   \n",
       "\n",
       "    lunch                   county state_fips  county_fips ulocale  \n",
       "0    41.0         Jefferson County          8         8059    21.0  \n",
       "1   495.0  East Baton Rouge Parish         22        22033    12.0  \n",
       "2   125.0          Rockdale County         13        13247    21.0  \n",
       "3  2007.0      Philadelphia County         42        42101    11.0  \n",
       "4   543.0           Suffolk County         25        25025    11.0  \n",
       "\n",
       "[5 rows x 50 columns]"
      ]
     },
     "execution_count": 3,
     "metadata": {},
     "output_type": "execute_result"
    }
   ],
   "source": [
    "mass_shooting_data.head()"
   ]
  },
  {
   "cell_type": "code",
   "execution_count": 4,
   "metadata": {},
   "outputs": [
    {
     "data": {
      "text/html": [
       "<div>\n",
       "<style scoped>\n",
       "    .dataframe tbody tr th:only-of-type {\n",
       "        vertical-align: middle;\n",
       "    }\n",
       "\n",
       "    .dataframe tbody tr th {\n",
       "        vertical-align: top;\n",
       "    }\n",
       "\n",
       "    .dataframe thead th {\n",
       "        text-align: right;\n",
       "    }\n",
       "</style>\n",
       "<table border=\"1\" class=\"dataframe\">\n",
       "  <thead>\n",
       "    <tr style=\"text-align: right;\">\n",
       "      <th></th>\n",
       "      <th>Total Mass Shooting Per Month</th>\n",
       "      <th>Total Dead</th>\n",
       "      <th>Total Injured</th>\n",
       "      <th>Total Enrollment</th>\n",
       "    </tr>\n",
       "    <tr>\n",
       "      <th>Month</th>\n",
       "      <th></th>\n",
       "      <th></th>\n",
       "      <th></th>\n",
       "      <th></th>\n",
       "    </tr>\n",
       "  </thead>\n",
       "  <tbody>\n",
       "    <tr>\n",
       "      <th>1</th>\n",
       "      <td>38</td>\n",
       "      <td>9</td>\n",
       "      <td>42</td>\n",
       "      <td>41617</td>\n",
       "    </tr>\n",
       "    <tr>\n",
       "      <th>2</th>\n",
       "      <td>37</td>\n",
       "      <td>28</td>\n",
       "      <td>50</td>\n",
       "      <td>41041</td>\n",
       "    </tr>\n",
       "    <tr>\n",
       "      <th>3</th>\n",
       "      <td>23</td>\n",
       "      <td>14</td>\n",
       "      <td>40</td>\n",
       "      <td>24962</td>\n",
       "    </tr>\n",
       "    <tr>\n",
       "      <th>4</th>\n",
       "      <td>22</td>\n",
       "      <td>18</td>\n",
       "      <td>46</td>\n",
       "      <td>21497</td>\n",
       "    </tr>\n",
       "    <tr>\n",
       "      <th>5</th>\n",
       "      <td>16</td>\n",
       "      <td>14</td>\n",
       "      <td>25</td>\n",
       "      <td>18405</td>\n",
       "    </tr>\n",
       "  </tbody>\n",
       "</table>\n",
       "</div>"
      ],
      "text/plain": [
       "       Total Mass Shooting Per Month  Total Dead  Total Injured  \\\n",
       "Month                                                             \n",
       "1                                 38           9             42   \n",
       "2                                 37          28             50   \n",
       "3                                 23          14             40   \n",
       "4                                 22          18             46   \n",
       "5                                 16          14             25   \n",
       "\n",
       "       Total Enrollment  \n",
       "Month                    \n",
       "1                 41617  \n",
       "2                 41041  \n",
       "3                 24962  \n",
       "4                 21497  \n",
       "5                 18405  "
      ]
     },
     "execution_count": 4,
     "metadata": {},
     "output_type": "execute_result"
    }
   ],
   "source": [
    "grouped_month = mass_shooting_data.groupby(['Month'])\n",
    "Total_shootings = grouped_month['Month'].count()\n",
    "Month_Killed = grouped_month['killed'].sum()\n",
    "Month_Injured = grouped_month['injured'].sum()\n",
    "Total_Enrollment = grouped_month['enrollment'].sum()\n",
    "\n",
    "\n",
    "        \n",
    "df_Months=pd.DataFrame({\"Total Mass Shooting Per Month\":Total_shootings, \"Total Dead\":Month_Killed, \"Total Injured\":Month_Injured, \"Total Enrollment\":Total_Enrollment})\n",
    "\n",
    "\n",
    "df_Months.head()\n",
    "\n",
    "\n",
    "\n",
    "\n",
    "\n",
    "\n",
    "\n",
    "\n",
    "\n",
    "\n"
   ]
  },
  {
   "cell_type": "code",
   "execution_count": 5,
   "metadata": {},
   "outputs": [
    {
     "data": {
      "text/plain": [
       "[Text(0, 0, 'January'),\n",
       " Text(0, 0, 'February'),\n",
       " Text(0, 0, 'March'),\n",
       " Text(0, 0, 'April'),\n",
       " Text(0, 0, 'May'),\n",
       " Text(0, 0, 'June'),\n",
       " Text(0, 0, 'July'),\n",
       " Text(0, 0, 'August'),\n",
       " Text(0, 0, 'September'),\n",
       " Text(0, 0, 'October'),\n",
       " Text(0, 0, 'November'),\n",
       " Text(0, 0, 'December')]"
      ]
     },
     "execution_count": 5,
     "metadata": {},
     "output_type": "execute_result"
    }
   ],
   "source": [
    "ax = df_Months[['Total Mass Shooting Per Month', 'Total Dead', 'Total Injured']].plot.bar(figsize=(10,6)) \n",
    "ax.set_xticklabels([calendar.month_name[x] for x in range(1,13)])\n"
   ]
  },
  {
   "cell_type": "code",
   "execution_count": 6,
   "metadata": {},
   "outputs": [],
   "source": [
    "matplotlib inline"
   ]
  },
  {
   "cell_type": "code",
   "execution_count": 7,
   "metadata": {
    "scrolled": true
   },
   "outputs": [
    {
     "data": {
      "text/plain": [
       "[Text(0, 0, 'January'),\n",
       " Text(0, 0, 'February'),\n",
       " Text(0, 0, 'March'),\n",
       " Text(0, 0, 'April'),\n",
       " Text(0, 0, 'May'),\n",
       " Text(0, 0, 'June'),\n",
       " Text(0, 0, 'July'),\n",
       " Text(0, 0, 'August'),\n",
       " Text(0, 0, 'September'),\n",
       " Text(0, 0, 'October'),\n",
       " Text(0, 0, 'November'),\n",
       " Text(0, 0, 'December')]"
      ]
     },
     "execution_count": 7,
     "metadata": {},
     "output_type": "execute_result"
    },
    {
     "data": {
      "image/png": "[encoded data removed]",
      "text/plain": [
       "<Figure size 720x432 with 1 Axes>"
      ]
     },
     "metadata": {
      "needs_background": "light"
     },
     "output_type": "display_data"
    }
   ],
   "source": [
    "ax = df_Months[['Total Mass Shooting Per Month', 'Total Dead', 'Total Injured']].plot.bar(figsize=(10,6)) \n",
    "ax.set_xticklabels([calendar.month_name[x] for x in range(1,13)])"
   ]
  },
  {
   "cell_type": "code",
   "execution_count": 39,
   "metadata": {},
   "outputs": [
    {
     "data": {
      "text/html": [
       "<div>\n",
       "<style scoped>\n",
       "    .dataframe tbody tr th:only-of-type {\n",
       "        vertical-align: middle;\n",
       "    }\n",
       "\n",
       "    .dataframe tbody tr th {\n",
       "        vertical-align: top;\n",
       "    }\n",
       "\n",
       "    .dataframe thead th {\n",
       "        text-align: right;\n",
       "    }\n",
       "</style>\n",
       "<table border=\"1\" class=\"dataframe\">\n",
       "  <thead>\n",
       "    <tr style=\"text-align: right;\">\n",
       "      <th></th>\n",
       "      <th>School Shootings Per Day</th>\n",
       "      <th>Total Dead</th>\n",
       "      <th>Total Injured</th>\n",
       "      <th>Total Enrollment</th>\n",
       "    </tr>\n",
       "    <tr>\n",
       "      <th>day_of_week</th>\n",
       "      <th></th>\n",
       "      <th></th>\n",
       "      <th></th>\n",
       "      <th></th>\n",
       "    </tr>\n",
       "  </thead>\n",
       "  <tbody>\n",
       "    <tr>\n",
       "      <th>Friday</th>\n",
       "      <td>45</td>\n",
       "      <td>27</td>\n",
       "      <td>72</td>\n",
       "      <td>58483</td>\n",
       "    </tr>\n",
       "    <tr>\n",
       "      <th>Monday</th>\n",
       "      <td>48</td>\n",
       "      <td>24</td>\n",
       "      <td>58</td>\n",
       "      <td>49206</td>\n",
       "    </tr>\n",
       "    <tr>\n",
       "      <th>Thursday</th>\n",
       "      <td>37</td>\n",
       "      <td>11</td>\n",
       "      <td>28</td>\n",
       "      <td>40186</td>\n",
       "    </tr>\n",
       "    <tr>\n",
       "      <th>Tuesday</th>\n",
       "      <td>55</td>\n",
       "      <td>43</td>\n",
       "      <td>47</td>\n",
       "      <td>54767</td>\n",
       "    </tr>\n",
       "    <tr>\n",
       "      <th>Wednesday</th>\n",
       "      <td>53</td>\n",
       "      <td>38</td>\n",
       "      <td>89</td>\n",
       "      <td>53936</td>\n",
       "    </tr>\n",
       "  </tbody>\n",
       "</table>\n",
       "</div>"
      ],
      "text/plain": [
       "             School Shootings Per Day  Total Dead  Total Injured  \\\n",
       "day_of_week                                                        \n",
       "Friday                             45          27             72   \n",
       "Monday                             48          24             58   \n",
       "Thursday                           37          11             28   \n",
       "Tuesday                            55          43             47   \n",
       "Wednesday                          53          38             89   \n",
       "\n",
       "             Total Enrollment  \n",
       "day_of_week                    \n",
       "Friday                  58483  \n",
       "Monday                  49206  \n",
       "Thursday                40186  \n",
       "Tuesday                 54767  \n",
       "Wednesday               53936  "
      ]
     },
     "execution_count": 39,
     "metadata": {},
     "output_type": "execute_result"
    }
   ],
   "source": [
    "grouped_Day = mass_shooting_data.groupby(['day_of_week'])\n",
    "Total_shootings = grouped_Day['day_of_week'].count()\n",
    "Month_Killed = grouped_Day['killed'].sum()\n",
    "Month_Injured = grouped_Day['injured'].sum()\n",
    "Total_Enrollment = grouped_Day['enrollment'].sum()\n",
    "\n",
    "\n",
    "        \n",
    "df_Days=pd.DataFrame({\"School Shootings Per Day\":Total_shootings, \"Total Dead\":Month_Killed, \"Total Injured\":Month_Injured, \"Total Enrollment\":Total_Enrollment})\n",
    "\n",
    "\n",
    "df_Days.head()\n"
   ]
  },
  {
   "cell_type": "code",
   "execution_count": 40,
   "metadata": {},
   "outputs": [
    {
     "data": {
      "text/plain": [
       "<matplotlib.axes._subplots.AxesSubplot at 0x1991669ad68>"
      ]
     },
     "execution_count": 40,
     "metadata": {},
     "output_type": "execute_result"
    },
    {
     "data": {
      "image/png": "[encoded data removed]",
      "text/plain": [
       "<Figure size 432x288 with 1 Axes>"
      ]
     },
     "metadata": {
      "needs_background": "light"
     },
     "output_type": "display_data"
    }
   ],
   "source": [
    "df_Days[['School Shootings Per Day', 'Total Dead', 'Total Injured']].plot.bar()"
   ]
  },
  {
   "cell_type": "code",
   "execution_count": 10,
   "metadata": {},
   "outputs": [],
   "source": [
    "matplotlib inline"
   ]
  },
  {
   "cell_type": "code",
   "execution_count": 11,
   "metadata": {},
   "outputs": [
    {
     "data": {
      "text/plain": [
       "<matplotlib.axes._subplots.AxesSubplot at 0x19914be02b0>"
      ]
     },
     "execution_count": 11,
     "metadata": {},
     "output_type": "execute_result"
    },
    {
     "data": {
      "image/png": "[encoded data removed]",
      "text/plain": [
       "<Figure size 432x288 with 1 Axes>"
      ]
     },
     "metadata": {
      "needs_background": "light"
     },
     "output_type": "display_data"
    }
   ],
   "source": [
    "df_Days[['School Shootings Per Day', 'Total Dead', 'Total Injured']].plot.bar()"
   ]
  },
  {
   "cell_type": "code",
   "execution_count": 27,
   "metadata": {},
   "outputs": [
    {
     "data": {
      "text/html": [
       "<div>\n",
       "<style scoped>\n",
       "    .dataframe tbody tr th:only-of-type {\n",
       "        vertical-align: middle;\n",
       "    }\n",
       "\n",
       "    .dataframe tbody tr th {\n",
       "        vertical-align: top;\n",
       "    }\n",
       "\n",
       "    .dataframe thead th {\n",
       "        text-align: right;\n",
       "    }\n",
       "</style>\n",
       "<table border=\"1\" class=\"dataframe\">\n",
       "  <thead>\n",
       "    <tr style=\"text-align: right;\">\n",
       "      <th></th>\n",
       "      <th>Total Shootings Per Time</th>\n",
       "      <th>Total Dead</th>\n",
       "      <th>Total Injured</th>\n",
       "    </tr>\n",
       "    <tr>\n",
       "      <th>time</th>\n",
       "      <th></th>\n",
       "      <th></th>\n",
       "      <th></th>\n",
       "    </tr>\n",
       "  </thead>\n",
       "  <tbody>\n",
       "    <tr>\n",
       "      <th>1-PM</th>\n",
       "      <td>23</td>\n",
       "      <td>7</td>\n",
       "      <td>13</td>\n",
       "    </tr>\n",
       "    <tr>\n",
       "      <th>10-AM</th>\n",
       "      <td>26</td>\n",
       "      <td>14</td>\n",
       "      <td>30</td>\n",
       "    </tr>\n",
       "    <tr>\n",
       "      <th>11-AM</th>\n",
       "      <td>19</td>\n",
       "      <td>5</td>\n",
       "      <td>12</td>\n",
       "    </tr>\n",
       "    <tr>\n",
       "      <th>12-PM</th>\n",
       "      <td>33</td>\n",
       "      <td>36</td>\n",
       "      <td>32</td>\n",
       "    </tr>\n",
       "    <tr>\n",
       "      <th>2-PM</th>\n",
       "      <td>27</td>\n",
       "      <td>6</td>\n",
       "      <td>34</td>\n",
       "    </tr>\n",
       "    <tr>\n",
       "      <th>3-PM</th>\n",
       "      <td>17</td>\n",
       "      <td>31</td>\n",
       "      <td>58</td>\n",
       "    </tr>\n",
       "    <tr>\n",
       "      <th>4-PM</th>\n",
       "      <td>3</td>\n",
       "      <td>1</td>\n",
       "      <td>1</td>\n",
       "    </tr>\n",
       "    <tr>\n",
       "      <th>7-AM</th>\n",
       "      <td>30</td>\n",
       "      <td>23</td>\n",
       "      <td>59</td>\n",
       "    </tr>\n",
       "    <tr>\n",
       "      <th>8-AM</th>\n",
       "      <td>30</td>\n",
       "      <td>9</td>\n",
       "      <td>26</td>\n",
       "    </tr>\n",
       "    <tr>\n",
       "      <th>9-AM</th>\n",
       "      <td>19</td>\n",
       "      <td>10</td>\n",
       "      <td>24</td>\n",
       "    </tr>\n",
       "  </tbody>\n",
       "</table>\n",
       "</div>"
      ],
      "text/plain": [
       "       Total Shootings Per Time  Total Dead  Total Injured\n",
       "time                                                      \n",
       "1-PM                         23           7             13\n",
       "10-AM                        26          14             30\n",
       "11-AM                        19           5             12\n",
       "12-PM                        33          36             32\n",
       "2-PM                         27           6             34\n",
       "3-PM                         17          31             58\n",
       "4-PM                          3           1              1\n",
       "7-AM                         30          23             59\n",
       "8-AM                         30           9             26\n",
       "9-AM                         19          10             24"
      ]
     },
     "execution_count": 27,
     "metadata": {},
     "output_type": "execute_result"
    }
   ],
   "source": [
    "grouped_time = mass_shooting_data.groupby(['time'])\n",
    "Total_shootings = grouped_month['time'].count()\n",
    "Month_Killed = grouped_month['killed'].sum()\n",
    "Month_Injured = grouped_month['injured'].sum()\n",
    "\n",
    "\n",
    "\n",
    "        \n",
    "df_Time=pd.DataFrame({\"Total Shootings Per Time\":Total_shootings, \"Total Dead\":Month_Killed, \"Total Injured\":Month_Injured})\n",
    "\n",
    "\n",
    "\n",
    "df_sort = df_Time.sort_values(by='time',ascending=True)\n",
    "df_sort\n",
    "\n",
    "\n"
   ]
  },
  {
   "cell_type": "code",
   "execution_count": 34,
   "metadata": {},
   "outputs": [
    {
     "data": {
      "text/plain": [
       "<matplotlib.axes._subplots.AxesSubplot at 0x199162947b8>"
      ]
     },
     "execution_count": 34,
     "metadata": {},
     "output_type": "execute_result"
    },
    {
     "data": {
      "image/png": "[encoded data removed]",
      "text/plain": [
       "<Figure size 432x288 with 1 Axes>"
      ]
     },
     "metadata": {
      "needs_background": "light"
     },
     "output_type": "display_data"
    }
   ],
   "source": [
    "Data = {'Total Shootings Per Time': [30,30,19,26,19,33,23,27,17,3],\n",
    "        'Time Of The Shooting': [7,8,9,10,11,12,1,2,3,4]\n",
    "       }\n",
    "df = DataFrame(Data,columns=['Total Shootings Per Time','Time Of The Shooting'])\n",
    "\n",
    "df.plot(x ='Time Of The Shooting', y='Total Shootings Per Time', kind = 'scatter')\n",
    "\n",
    "\n",
    "  \n",
    "\n"
   ]
  },
  {
   "cell_type": "code",
   "execution_count": null,
   "metadata": {},
   "outputs": [],
   "source": []
  },
  {
   "cell_type": "code",
   "execution_count": null,
   "metadata": {},
   "outputs": [],
   "source": []
  }
 ],
 "metadata": {
  "kernelspec": {
   "display_name": "Python 3",
   "language": "python",
   "name": "python3"
  },
  "language_info": {
   "codemirror_mode": {
    "name": "ipython",
    "version": 3
   },
   "file_extension": ".py",
   "mimetype": "text/x-python",
   "name": "python",
   "nbconvert_exporter": "python",
   "pygments_lexer": "ipython3",
   "version": "3.7.3"
  }
 },
 "nbformat": 4,
 "nbformat_minor": 2
}
